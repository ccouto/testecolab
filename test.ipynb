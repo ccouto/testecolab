{
 "cells": [
  {
   "cell_type": "code",
   "execution_count": 5,
   "metadata": {},
   "outputs": [
    {
     "name": "stdout",
     "output_type": "stream",
     "text": [
      "  % Total    % Received % Xferd  Average Speed   Time    Time     Time  Current\n",
      "                                 Dload  Upload   Total   Spent    Left  Speed\n",
      "100 30567  100 30567    0     0  68645      0 --:--:-- --:--:-- --:--:-- 69000\n",
      "  % Total    % Received % Xferd  Average Speed   Time    Time     Time  Current\n",
      "                                 Dload  Upload   Total   Spent    Left  Speed\n",
      "100    12  100    12    0     0     31      0 --:--:-- --:--:-- --:--:--    31\n",
      "  % Total    % Received % Xferd  Average Speed   Time    Time     Time  Current\n",
      "                                 Dload  Upload   Total   Spent    Left  Speed\n",
      "100   868  100   868    0     0   2188      0 --:--:-- --:--:-- --:--:--  2197\n",
      "  % Total    % Received % Xferd  Average Speed   Time    Time     Time  Current\n",
      "                                 Dload  Upload   Total   Spent    Left  Speed\n",
      "100  192k  100  192k    0     0   442k      0 --:--:-- --:--:-- --:--:--  443k\n"
     ]
    }
   ],
   "source": [
    "!curl -o pyrenn_ccversion.py -L https://raw.githubusercontent.com/ccouto/testecolab/main/pyrenn_ccversion.py\n",
    "!curl -o scaler_y.txt -L https://raw.githubusercontent.com/ccouto/testecolab/main/scaler_y.txt\n",
    "!curl -o scaler122.pkl -L https://raw.githubusercontent.com/ccouto/testecolab/main/scaler122.pkl\n",
    "!curl -o 9_128_16_1_lm_v1.nn -L https://raw.githubusercontent.com/ccouto/testecolab/main/9_128_16_1_lm_v1.nn\n",
    "!curl -o McrNet_helper.py -L https://raw.githubusercontent.com/ccouto/testecolab/main/McrNet_helper.py"
   ]
  },
  {
   "cell_type": "code",
   "execution_count": 6,
   "metadata": {},
   "outputs": [],
   "source": [
    "from McrNet_helper import LoadNN, Calculate\n",
    "model, model_scaler, u = LoadNN('9_128_16_1_lm_v1.nn')"
   ]
  },
  {
   "cell_type": "markdown",
   "metadata": {},
   "source": [
    "![img](https://raw.githubusercontent.com/ccouto/testecolab/main/notation.png)"
   ]
  },
  {
   "cell_type": "code",
   "execution_count": 7,
   "metadata": {},
   "outputs": [
    {
     "name": "stdout",
     "output_type": "stream",
     "text": [
      "Results:\n",
      "\n",
      "alphacr= 4.166\n",
      "\n",
      "Mcr= 416.625 kN.m\n",
      "\n",
      "psi=-0.4\n"
     ]
    }
   ],
   "source": [
    "# input data in mm and kNm [see notation]\n",
    "# change this:\n",
    "hw1 = 450\n",
    "hw2 = 650\n",
    "tw = 5\n",
    "bf1 = 250\n",
    "tf1 = 12\n",
    "bf2 = 150\n",
    "tf2 = 10\n",
    "L = 10000\n",
    "M1 = 100\n",
    "M2 = -40\n",
    "\n",
    "#don't change this line\n",
    "Calculate(hw1,hw2,tw,bf1,tf1,bf2,tf2,L,M1,M2,model,model_scaler,u)"
   ]
  }
 ],
 "metadata": {
  "kernelspec": {
   "display_name": "steelia_ok",
   "language": "python",
   "name": "python3"
  },
  "language_info": {
   "codemirror_mode": {
    "name": "ipython",
    "version": 3
   },
   "file_extension": ".py",
   "mimetype": "text/x-python",
   "name": "python",
   "nbconvert_exporter": "python",
   "pygments_lexer": "ipython3",
   "version": "3.8.15"
  },
  "orig_nbformat": 4
 },
 "nbformat": 4,
 "nbformat_minor": 2
}
