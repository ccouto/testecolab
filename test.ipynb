{
 "cells": [
  {
   "cell_type": "markdown",
   "metadata": {},
   "source": [
    "# Critical moment calculation using an artificial neural network\n",
    "\n",
    "The model was developed in Couto, Carlos. \"Neural network models for the critical bending moment of uniform and tapered beams.\" Structures. Vol. 41. Elsevier, 2022."
   ]
  },
  {
   "cell_type": "code",
   "execution_count": 5,
   "metadata": {},
   "outputs": [
    {
     "name": "stdout",
     "output_type": "stream",
     "text": [
      "  % Total    % Received % Xferd  Average Speed   Time    Time     Time  Current\n",
      "                                 Dload  Upload   Total   Spent    Left  Speed\n",
      "100 30567  100 30567    0     0  68645      0 --:--:-- --:--:-- --:--:-- 69000\n",
      "  % Total    % Received % Xferd  Average Speed   Time    Time     Time  Current\n",
      "                                 Dload  Upload   Total   Spent    Left  Speed\n",
      "100    12  100    12    0     0     31      0 --:--:-- --:--:-- --:--:--    31\n",
      "  % Total    % Received % Xferd  Average Speed   Time    Time     Time  Current\n",
      "                                 Dload  Upload   Total   Spent    Left  Speed\n",
      "100   868  100   868    0     0   2188      0 --:--:-- --:--:-- --:--:--  2197\n",
      "  % Total    % Received % Xferd  Average Speed   Time    Time     Time  Current\n",
      "                                 Dload  Upload   Total   Spent    Left  Speed\n",
      "100  192k  100  192k    0     0   442k      0 --:--:-- --:--:-- --:--:--  443k\n"
     ]
    }
   ],
   "source": [
    "!curl -o pyrenn_ccversion.py -L https://raw.githubusercontent.com/ccouto/testecolab/main/pyrenn_ccversion.py\n",
    "!curl -o scaler_y.txt -L https://raw.githubusercontent.com/ccouto/testecolab/main/scaler_y.txt\n",
    "!curl -o scaler122.pkl -L https://raw.githubusercontent.com/ccouto/testecolab/main/scaler122.pkl\n",
    "!curl -o 9_128_16_1_lm_v1.nn -L https://raw.githubusercontent.com/ccouto/testecolab/main/9_128_16_1_lm_v1.nn\n",
    "!curl -o McrNet_helper.py -L https://raw.githubusercontent.com/ccouto/testecolab/main/McrNet_helper.py"
   ]
  },
  {
   "cell_type": "code",
   "execution_count": 1,
   "metadata": {},
   "outputs": [],
   "source": [
    "from McrNet_helper import LoadNN, Calculate, Calculate_ResultOnly\n",
    "model, model_scaler, u = LoadNN('9_128_16_1_lm_v1.nn')"
   ]
  },
  {
   "cell_type": "markdown",
   "metadata": {},
   "source": [
    "![img](https://raw.githubusercontent.com/ccouto/testecolab/main/notation.png)"
   ]
  },
  {
   "cell_type": "code",
   "execution_count": 2,
   "metadata": {},
   "outputs": [
    {
     "name": "stdout",
     "output_type": "stream",
     "text": [
      "Results:\n",
      "\n",
      "alphacr= 4.166\n",
      "\n",
      "Mcr= 416.625 kN.m\n",
      "\n",
      "psi=-0.4\n"
     ]
    }
   ],
   "source": [
    "# input data in mm and kNm [see notation]\n",
    "# change this:\n",
    "hw1 = 450\n",
    "hw2 = 650\n",
    "tw = 5\n",
    "bf1 = 250\n",
    "tf1 = 12\n",
    "bf2 = 150\n",
    "tf2 = 10\n",
    "L = 10000\n",
    "M1 = 100\n",
    "M2 = -40\n",
    "\n",
    "#don't change this line\n",
    "Calculate(hw1,hw2,tw,bf1,tf1,bf2,tf2,L,M1,M2,model,model_scaler,u)"
   ]
  },
  {
   "cell_type": "code",
   "execution_count": 6,
   "metadata": {},
   "outputs": [
    {
     "data": {
      "text/html": [
       "<div>\n",
       "<style scoped>\n",
       "    .dataframe tbody tr th:only-of-type {\n",
       "        vertical-align: middle;\n",
       "    }\n",
       "\n",
       "    .dataframe tbody tr th {\n",
       "        vertical-align: top;\n",
       "    }\n",
       "\n",
       "    .dataframe thead th {\n",
       "        text-align: right;\n",
       "    }\n",
       "</style>\n",
       "<table border=\"1\" class=\"dataframe\">\n",
       "  <thead>\n",
       "    <tr style=\"text-align: right;\">\n",
       "      <th></th>\n",
       "      <th>hw1</th>\n",
       "      <th>hw2</th>\n",
       "      <th>tw</th>\n",
       "      <th>bf1</th>\n",
       "      <th>tf1</th>\n",
       "      <th>bf2</th>\n",
       "      <th>tf2</th>\n",
       "      <th>psi</th>\n",
       "      <th>L</th>\n",
       "      <th>y_Mcr_u_eq</th>\n",
       "    </tr>\n",
       "  </thead>\n",
       "  <tbody>\n",
       "    <tr>\n",
       "      <th>0</th>\n",
       "      <td>175.00</td>\n",
       "      <td>700.0</td>\n",
       "      <td>3.41</td>\n",
       "      <td>700.0</td>\n",
       "      <td>35.37</td>\n",
       "      <td>175.0</td>\n",
       "      <td>12.07</td>\n",
       "      <td>0.5</td>\n",
       "      <td>15400.0</td>\n",
       "      <td>5129.675897</td>\n",
       "    </tr>\n",
       "    <tr>\n",
       "      <th>1</th>\n",
       "      <td>250.00</td>\n",
       "      <td>500.0</td>\n",
       "      <td>3.23</td>\n",
       "      <td>250.0</td>\n",
       "      <td>10.79</td>\n",
       "      <td>500.0</td>\n",
       "      <td>6.84</td>\n",
       "      <td>1.0</td>\n",
       "      <td>14000.0</td>\n",
       "      <td>108.262904</td>\n",
       "    </tr>\n",
       "    <tr>\n",
       "      <th>2</th>\n",
       "      <td>666.67</td>\n",
       "      <td>1000.0</td>\n",
       "      <td>6.06</td>\n",
       "      <td>1000.0</td>\n",
       "      <td>35.79</td>\n",
       "      <td>500.0</td>\n",
       "      <td>6.06</td>\n",
       "      <td>0.5</td>\n",
       "      <td>18000.0</td>\n",
       "      <td>18677.874660</td>\n",
       "    </tr>\n",
       "    <tr>\n",
       "      <th>3</th>\n",
       "      <td>175.00</td>\n",
       "      <td>700.0</td>\n",
       "      <td>5.19</td>\n",
       "      <td>175.0</td>\n",
       "      <td>5.19</td>\n",
       "      <td>175.0</td>\n",
       "      <td>5.62</td>\n",
       "      <td>1.0</td>\n",
       "      <td>19600.0</td>\n",
       "      <td>11.134650</td>\n",
       "    </tr>\n",
       "    <tr>\n",
       "      <th>4</th>\n",
       "      <td>800.00</td>\n",
       "      <td>400.0</td>\n",
       "      <td>3.14</td>\n",
       "      <td>400.0</td>\n",
       "      <td>32.00</td>\n",
       "      <td>200.0</td>\n",
       "      <td>8.63</td>\n",
       "      <td>-0.5</td>\n",
       "      <td>27200.0</td>\n",
       "      <td>1559.648343</td>\n",
       "    </tr>\n",
       "  </tbody>\n",
       "</table>\n",
       "</div>"
      ],
      "text/plain": [
       "      hw1     hw2    tw     bf1    tf1    bf2    tf2  psi        L  \\\n",
       "0  175.00   700.0  3.41   700.0  35.37  175.0  12.07  0.5  15400.0   \n",
       "1  250.00   500.0  3.23   250.0  10.79  500.0   6.84  1.0  14000.0   \n",
       "2  666.67  1000.0  6.06  1000.0  35.79  500.0   6.06  0.5  18000.0   \n",
       "3  175.00   700.0  5.19   175.0   5.19  175.0   5.62  1.0  19600.0   \n",
       "4  800.00   400.0  3.14   400.0  32.00  200.0   8.63 -0.5  27200.0   \n",
       "\n",
       "     y_Mcr_u_eq  \n",
       "0   5129.675897  \n",
       "1    108.262904  \n",
       "2  18677.874660  \n",
       "3     11.134650  \n",
       "4   1559.648343  "
      ]
     },
     "execution_count": 6,
     "metadata": {},
     "output_type": "execute_result"
    }
   ],
   "source": [
    "import pandas as pd\n",
    "import numpy as np\n",
    "import matplotlib.pyplot as plt\n",
    "\n",
    "df = pd.read_csv('mcr_train_origdisc_random_40000.csv',sep=\",\")\n",
    "\n",
    "df.head()"
   ]
  },
  {
   "cell_type": "code",
   "execution_count": 7,
   "metadata": {},
   "outputs": [
    {
     "data": {
      "text/plain": [
       "[<matplotlib.lines.Line2D at 0x7fd948f8d1f0>]"
      ]
     },
     "execution_count": 7,
     "metadata": {},
     "output_type": "execute_result"
    },
    {
     "data": {
      "image/png": "[encoded data removed]",
      "text/plain": [
       "<Figure size 640x480 with 1 Axes>"
      ]
     },
     "metadata": {},
     "output_type": "display_data"
    }
   ],
   "source": [
    "y_max=np.max(df.y_Mcr_u_eq)\n",
    "\n",
    "y=np.zeros(len(df.y_Mcr_u_eq))\n",
    "x=np.zeros(len(df.y_Mcr_u_eq))\n",
    "\n",
    "for j in range(0,len(y)):\n",
    "    x[j]=df.y_Mcr_u_eq[j]\n",
    "\n",
    "    y[j] = Calculate_ResultOnly(df.hw1[j],df.hw2[j],df.tw[j],df.bf1[j],df.tf1[j],df.bf2[j],df.tf2[j],df.L[j], df.psi[j],model,model_scaler,u)\n",
    "\n",
    "    #print('case:', x[j], y[j], x[j]/y[j])\n",
    "\n",
    "plt.plot(x,y,'ok')\n"
   ]
  },
  {
   "cell_type": "code",
   "execution_count": 10,
   "metadata": {},
   "outputs": [
    {
     "data": {
      "text/plain": [
       "[<matplotlib.lines.Line2D at 0x7fd948985370>]"
      ]
     },
     "execution_count": 10,
     "metadata": {},
     "output_type": "execute_result"
    },
    {
     "data": {
      "image/png": "[encoded data removed]",
      "text/plain": [
       "<Figure size 640x480 with 1 Axes>"
      ]
     },
     "metadata": {},
     "output_type": "display_data"
    }
   ],
   "source": [
    "plt.plot(x,x/y,'ok')\n"
   ]
  },
  {
   "cell_type": "code",
   "execution_count": null,
   "metadata": {},
   "outputs": [],
   "source": []
  }
 ],
 "metadata": {
  "kernelspec": {
   "display_name": "steelia_ok",
   "language": "python",
   "name": "python3"
  },
  "language_info": {
   "codemirror_mode": {
    "name": "ipython",
    "version": 3
   },
   "file_extension": ".py",
   "mimetype": "text/x-python",
   "name": "python",
   "nbconvert_exporter": "python",
   "pygments_lexer": "ipython3",
   "version": "3.8.15"
  },
  "orig_nbformat": 4
 },
 "nbformat": 4,
 "nbformat_minor": 2
}
